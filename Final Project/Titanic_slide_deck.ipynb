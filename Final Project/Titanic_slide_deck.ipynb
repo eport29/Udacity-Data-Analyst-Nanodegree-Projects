{
 "cells": [
  {
   "cell_type": "markdown",
   "metadata": {
    "slideshow": {
     "slide_type": "slide"
    }
   },
   "source": [
    "# The conditions that  increased chances for surivival in the Titanic \n",
    "## by Erik Portillo "
   ]
  },
  {
   "cell_type": "markdown",
   "metadata": {
    "slideshow": {
     "slide_type": "slide"
    }
   },
   "source": [
    "## Investigation Overview\n",
    "\n",
    "> I will go over the background of passengers that where more likely to survive. This includes analyzing their socio-economic status that is indicated from their P_class(1st class= upper class, 2nd class= middle class, 3rd class= lower class) , gender, and if age had impact on survival rate. \n",
    "\n",
    "\n",
    "\n",
    "## Dataset Overview\n",
    "\n",
    "> The dataset pertains to information of the 887 out of the 2229 passengers who boarded the Titanic. The main variable of interest will be the survived variable as it relates to gender, P_class, and age. "
   ]
  },
  {
   "cell_type": "code",
   "execution_count": 1,
   "metadata": {
    "collapsed": true,
    "slideshow": {
     "slide_type": "skip"
    }
   },
   "outputs": [],
   "source": [
    "# import all packages and set plots to be embedded inline\n",
    "import numpy as np\n",
    "import pandas as pd\n",
    "import matplotlib.pyplot as plt\n",
    "import seaborn as sb\n",
    "\n",
    "%matplotlib inline\n",
    "\n",
    "# suppress warnings from final output\n",
    "import warnings\n",
    "warnings.simplefilter(\"ignore\")"
   ]
  },
  {
   "cell_type": "code",
   "execution_count": 2,
   "metadata": {
    "collapsed": true,
    "slideshow": {
     "slide_type": "skip"
    }
   },
   "outputs": [],
   "source": [
    "# load in the dataset into a pandas dataframe\n",
    "df_1 = pd.read_csv('titanic.csv')"
   ]
  },
  {
   "cell_type": "markdown",
   "metadata": {
    "slideshow": {
     "slide_type": "slide"
    }
   },
   "source": [
    "## Female Casualties and P_class\n",
    "> This visualization shows the number of female casualties bases on P_class. It is evident that those at the upper class had received priority for life-saving equiments compared to those from lower-class"
   ]
  },
  {
   "cell_type": "code",
   "execution_count": 3,
   "metadata": {
    "slideshow": {
     "slide_type": "subslide"
    }
   },
   "outputs": [
    {
     "data": {
      "image/png": "[encoded data removed]",
      "text/plain": [
       "<matplotlib.figure.Figure at 0x10915f668>"
      ]
     },
     "metadata": {},
     "output_type": "display_data"
    }
   ],
   "source": [
    "survival_data = df_1['Survived']\n",
    "survived = (survival_data == 1).sum()\n",
    "casualties = (survival_data == 0).sum()\n",
    "\n",
    "gender_data = df_1['Sex']\n",
    "\n",
    "male_count = (gender_data == 'male').sum()\n",
    "female_count = (gender_data == 'female').sum()\n",
    "\n",
    "male_survivors = ((gender_data == 'male') & (survival_data == 1)).sum()\n",
    "female_survivors = ((gender_data == 'female') & (survival_data == 1)).sum()\n",
    "\n",
    "male_casualties = male_count - male_survivors\n",
    "female_casualties = female_count - female_survivors\n",
    "\n",
    "\n",
    "def drawHistogram(data,title,xlabel,ylabel,xticks=None,yticks=None,bins=None,color=None):\n",
    "    '''\n",
    "    Function to produce histogram\n",
    "    '''\n",
    "    plt.title(title)\n",
    "    plt.xlabel(xlabel)\n",
    "    plt.ylabel(ylabel)\n",
    "    if xticks != None :\n",
    "        plt.xticks(xticks)\n",
    "    if yticks != None :\n",
    "        plt.yticks(yticks)\n",
    "    plt.hist(data,bins=bins,color=color)\n",
    "    plt.show()\n",
    "\n",
    "\n",
    "\n",
    "#For females \n",
    "pclass = df_1['Pclass']\n",
    "\n",
    "pclass_female_casualties = pclass[(survival_data == 0) & (gender_data == 'female')]\n",
    "drawHistogram(pclass_female_casualties,'Female casualties based on Pclass',\n",
    "              'Pclass value','Number of female casualties',xticks=range(1,4),color='Red')\n",
    "\n"
   ]
  },
  {
   "cell_type": "code",
   "execution_count": 4,
   "metadata": {
    "slideshow": {
     "slide_type": "subslide"
    }
   },
   "outputs": [
    {
     "name": "stdout",
     "output_type": "stream",
     "text": [
      "----------------------------------\n",
      "Pclass 1 Metrics: \n",
      "Total Count :  94\n",
      "Total Number Of Survivors:  91\n",
      "Total Number Of casualties:  3\n",
      "Survival Rate: 96.81%\n",
      "----------------------------------\n",
      "Pclass 2 Metrics: \n",
      "Total Count :  76\n",
      "Total Number Of Survivors:  70\n",
      "Total Number Of casualties:  6\n",
      "Survival Rate: 92.11%\n",
      "----------------------------------\n",
      "Pclass 3 Metrics: \n",
      "Total Count :  144\n",
      "Total Number Of Survivors:  72\n",
      "Total Number Of casualties:  72\n",
      "Survival Rate: 50.0%\n",
      "----------------------------------\n"
     ]
    }
   ],
   "source": [
    "pclass = df_1['Pclass']\n",
    "\n",
    "pclass_values = sorted(pclass.unique())\n",
    "\n",
    "def calculateSurvivalRate(condition=True):\n",
    "    '''\n",
    "    Function to calculate survival Rates\n",
    "    '''\n",
    "    print('----------------------------------') \n",
    "    for val in pclass_values:\n",
    "        pclass_count = ((pclass == val) & (condition)).sum()\n",
    "        pclass_survivors = ((pclass == val)&(survival_data == 1) & (condition)).sum()\n",
    "        pclass_casualties = ((pclass == val)&(survival_data == 0) & (condition)).sum()\n",
    "        print('Pclass {0} Metrics: '.format(val))\n",
    "        print('Total Count : ',pclass_count)\n",
    "        print('Total Number Of Survivors: ',pclass_survivors)\n",
    "        print('Total Number Of casualties: ',pclass_casualties)\n",
    "        print('Survival Rate: {0}%'.format(round((pclass_survivors/pclass_count)*100.0,2)))\n",
    "        print('----------------------------------')\n",
    "\n",
    "calculateSurvivalRate(gender_data == 'female')"
   ]
  },
  {
   "cell_type": "markdown",
   "metadata": {
    "collapsed": true,
    "slideshow": {
     "slide_type": "slide"
    }
   },
   "source": [
    "## Male Casualties and P_class\n",
    "\n",
    "> Though there were more male deaths, the upper class male passangers still had a greater chance for survival (36.89%) compared to those from the lower-class (13.7%).\n"
   ]
  },
  {
   "cell_type": "code",
   "execution_count": 5,
   "metadata": {
    "slideshow": {
     "slide_type": "subslide"
    }
   },
   "outputs": [
    {
     "data": {
      "image/png": "[encoded data removed]",
      "text/plain": [
       "<matplotlib.figure.Figure at 0x10915f588>"
      ]
     },
     "metadata": {},
     "output_type": "display_data"
    }
   ],
   "source": [
    "#For males \n",
    "pclass_male_casualties = pclass[(survival_data == 0) & (gender_data == 'male')]\n",
    "drawHistogram(pclass_male_casualties,'Distribution of male casualties based on Pclass',\n",
    "              'Pclass value','Number of male casualties',xticks=range(1,4),color='blue')\n",
    "\n",
    "\n"
   ]
  },
  {
   "cell_type": "code",
   "execution_count": 6,
   "metadata": {
    "slideshow": {
     "slide_type": "subslide"
    }
   },
   "outputs": [
    {
     "name": "stdout",
     "output_type": "stream",
     "text": [
      "----------------------------------\n",
      "Pclass 1 Metrics: \n",
      "Total Count :  122\n",
      "Total Number Of Survivors:  45\n",
      "Total Number Of casualties:  77\n",
      "Survival Rate: 36.89%\n",
      "----------------------------------\n",
      "Pclass 2 Metrics: \n",
      "Total Count :  108\n",
      "Total Number Of Survivors:  17\n",
      "Total Number Of casualties:  91\n",
      "Survival Rate: 15.74%\n",
      "----------------------------------\n",
      "Pclass 3 Metrics: \n",
      "Total Count :  343\n",
      "Total Number Of Survivors:  47\n",
      "Total Number Of casualties:  296\n",
      "Survival Rate: 13.7%\n",
      "----------------------------------\n"
     ]
    }
   ],
   "source": [
    "calculateSurvivalRate(gender_data == 'male')"
   ]
  },
  {
   "cell_type": "markdown",
   "metadata": {
    "slideshow": {
     "slide_type": "slide"
    }
   },
   "source": [
    "## Female Casualties and Age\n",
    "> The histogram shows the female casualities as it relates to age. It is clear that passangers who were 50 and older had the lowest recorded deaths. Furthmore, it is interesting to note that females in their mid 30's also had lower deaths. Not suprisingly, the most deaths came from the age group of those in their early 20's because most passangers were around this age. "
   ]
  },
  {
   "cell_type": "code",
   "execution_count": 7,
   "metadata": {
    "slideshow": {
     "slide_type": "subslide"
    }
   },
   "outputs": [
    {
     "data": {
      "image/png": "[encoded data removed]",
      "text/plain": [
       "<matplotlib.figure.Figure at 0x10915f160>"
      ]
     },
     "metadata": {},
     "output_type": "display_data"
    }
   ],
   "source": [
    "# code to survived an Casualties \n",
    "age_data = df_1['Age']\n",
    "survived_age_data = age_data[survival_data==1].dropna()\n",
    "casualties_age_data = age_data[survival_data==0].dropna()\n",
    "\n",
    "#for female \n",
    "Age_female_casualties = age_data[(survival_data == 0) & (gender_data == 'female')]\n",
    "\n",
    "drawHistogram(Age_female_casualties,'Distribution of female casualties based on Age',\n",
    "              'Age','Number of female casualties',yticks=range(0,18,1),bins=15, color='orange')\n",
    "\n"
   ]
  },
  {
   "cell_type": "markdown",
   "metadata": {
    "slideshow": {
     "slide_type": "slide"
    }
   },
   "source": [
    "## Male Casualties and Age \n",
    "\n",
    "> For males, those who were around their pre-teenage and teenage years and those older than 50 had a greater chance for survival. Again based on the age group of all 887 passangers, most of the passangers were between their late teenage years to early 30's. The most male deaths came around the late 20's range. "
   ]
  },
  {
   "cell_type": "code",
   "execution_count": 8,
   "metadata": {
    "slideshow": {
     "slide_type": "subslide"
    }
   },
   "outputs": [
    {
     "data": {
      "image/png": "[encoded data removed]",
      "text/plain": [
       "<matplotlib.figure.Figure at 0x1a1d5170b8>"
      ]
     },
     "metadata": {},
     "output_type": "display_data"
    }
   ],
   "source": [
    "Age_male_casualties = age_data[(survival_data == 0) & (gender_data == 'male')]\n",
    "\n",
    "drawHistogram(Age_male_casualties,'Distribution of male casualties based on Age',\n",
    "              'Age','Number of male casualties',yticks=range(0,200,10),bins=10, color='green')\n"
   ]
  },
  {
   "cell_type": "markdown",
   "metadata": {
    "slideshow": {
     "slide_type": "slide"
    }
   },
   "source": [
    "This histogram shows the ages of all passangers, the most falling around the late teenage years up to early 30's. "
   ]
  },
  {
   "cell_type": "code",
   "execution_count": 9,
   "metadata": {
    "slideshow": {
     "slide_type": "subslide"
    }
   },
   "outputs": [
    {
     "data": {
      "image/png": "[encoded data removed]",
      "text/plain": [
       "<matplotlib.figure.Figure at 0x1a1d80c358>"
      ]
     },
     "metadata": {},
     "output_type": "display_data"
    }
   ],
   "source": [
    "bin_edges = np.arange(1, df_1['Age'].max()+5, 5)\n",
    "plt.hist(data = df_1, x = 'Age', bins = bin_edges)\n",
    "plt.ylabel('count')\n",
    "plt.xlabel('Ages')\n",
    "plt.show()"
   ]
  }
 ],
 "metadata": {
  "celltoolbar": "Slideshow",
  "kernelspec": {
   "display_name": "Python 3",
   "language": "python",
   "name": "python3"
  },
  "language_info": {
   "codemirror_mode": {
    "name": "ipython",
    "version": 3
   },
   "file_extension": ".py",
   "mimetype": "text/x-python",
   "name": "python",
   "nbconvert_exporter": "python",
   "pygments_lexer": "ipython3",
   "version": "3.6.8"
  }
 },
 "nbformat": 4,
 "nbformat_minor": 2
}
